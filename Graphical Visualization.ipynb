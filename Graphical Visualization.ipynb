{
 "cells": [
  {
   "cell_type": "markdown",
   "id": "22e803ec-9234-4727-ae40-0c074dda924a",
   "metadata": {},
   "source": [
    "# Graphical Visualization"
   ]
  },
  {
   "cell_type": "markdown",
   "id": "d06a191b-6d49-4de1-97a5-2304ce649e7b",
   "metadata": {},
   "source": [
    "# 1. Import data"
   ]
  },
  {
   "cell_type": "code",
   "execution_count": 1,
   "id": "ffea41fe-0a08-4b3c-ac15-8e8f9eda062c",
   "metadata": {},
   "outputs": [
    {
     "data": {
      "text/html": [
       "<div>\n",
       "<style scoped>\n",
       "    .dataframe tbody tr th:only-of-type {\n",
       "        vertical-align: middle;\n",
       "    }\n",
       "\n",
       "    .dataframe tbody tr th {\n",
       "        vertical-align: top;\n",
       "    }\n",
       "\n",
       "    .dataframe thead th {\n",
       "        text-align: right;\n",
       "    }\n",
       "</style>\n",
       "<table border=\"1\" class=\"dataframe\">\n",
       "  <thead>\n",
       "    <tr style=\"text-align: right;\">\n",
       "      <th></th>\n",
       "      <th>Advertising dollars</th>\n",
       "      <th>Sales</th>\n",
       "    </tr>\n",
       "  </thead>\n",
       "  <tbody>\n",
       "    <tr>\n",
       "      <th>0</th>\n",
       "      <td>5.5</td>\n",
       "      <td>100</td>\n",
       "    </tr>\n",
       "    <tr>\n",
       "      <th>1</th>\n",
       "      <td>5.8</td>\n",
       "      <td>110</td>\n",
       "    </tr>\n",
       "    <tr>\n",
       "      <th>2</th>\n",
       "      <td>6.0</td>\n",
       "      <td>112</td>\n",
       "    </tr>\n",
       "    <tr>\n",
       "      <th>3</th>\n",
       "      <td>5.9</td>\n",
       "      <td>115</td>\n",
       "    </tr>\n",
       "    <tr>\n",
       "      <th>4</th>\n",
       "      <td>6.2</td>\n",
       "      <td>117</td>\n",
       "    </tr>\n",
       "  </tbody>\n",
       "</table>\n",
       "</div>"
      ],
      "text/plain": [
       "   Advertising dollars  Sales\n",
       "0                  5.5    100\n",
       "1                  5.8    110\n",
       "2                  6.0    112\n",
       "3                  5.9    115\n",
       "4                  6.2    117"
      ]
     },
     "execution_count": 1,
     "metadata": {},
     "output_type": "execute_result"
    }
   ],
   "source": [
    "# https://pandas.pydata.org/docs/reference/api/pandas.DataFrame.plot.html\n",
    "import pandas as pd\n",
    "df = pd.read_excel('Advertising.xlsx')  \n",
    "df.head()"
   ]
  },
  {
   "cell_type": "markdown",
   "id": "4a741eae-006f-4275-a3cc-552399b92d8f",
   "metadata": {},
   "source": [
    "# 2. Scatter plot"
   ]
  },
  {
   "cell_type": "code",
   "execution_count": 2,
   "id": "efdd8eb4-3efb-49bd-a285-d12377c7776d",
   "metadata": {},
   "outputs": [
    {
     "data": {
      "image/png": "[encoded data removed]",
      "text/plain": [
       "<Figure size 432x288 with 1 Axes>"
      ]
     },
     "metadata": {
      "needs_background": "light"
     },
     "output_type": "display_data"
    }
   ],
   "source": [
    "ax=df.plot.scatter(x='Advertising dollars', y='Sales', c='Black')"
   ]
  },
  {
   "cell_type": "markdown",
   "id": "0615679e-35ac-4ff9-ae07-9aa121bd3248",
   "metadata": {},
   "source": [
    "# 3. Histogram"
   ]
  },
  {
   "cell_type": "code",
   "execution_count": 3,
   "id": "351c19dc-10b3-47a4-bbd9-d187a8d44f61",
   "metadata": {},
   "outputs": [
    {
     "data": {
      "image/png": "[encoded data removed]",
      "text/plain": [
       "<Figure size 432x288 with 1 Axes>"
      ]
     },
     "metadata": {
      "needs_background": "light"
     },
     "output_type": "display_data"
    }
   ],
   "source": [
    "ax = df['Sales'].plot.hist(bins=12)\n",
    "ax.set_xlabel('Advertising dollars');\n",
    "ax.set_ylabel('Frequency');"
   ]
  },
  {
   "cell_type": "code",
   "execution_count": 6,
   "id": "46608beb-7593-454c-9926-170cde21ede0",
   "metadata": {},
   "outputs": [
    {
     "data": {
      "image/png": "[encoded data removed]",
      "text/plain": [
       "<Figure size 432x288 with 1 Axes>"
      ]
     },
     "metadata": {
      "needs_background": "light"
     },
     "output_type": "display_data"
    }
   ],
   "source": [
    "# reference: https://matplotlib.org/stable/api/_as_gen/matplotlib.pyplot.html\n",
    "import matplotlib.pyplot as plt\n",
    "plt.hist(x=df['Sales'], bins='auto');\n",
    "plt.xlabel('Sales');\n",
    "plt.ylabel('Frequency');"
   ]
  },
  {
   "cell_type": "markdown",
   "id": "de024ed0-eef5-4cf5-9ff9-a7129dc3c919",
   "metadata": {},
   "source": [
    "# 4. Box plot"
   ]
  },
  {
   "cell_type": "code",
   "execution_count": 6,
   "id": "0fa855ae-73b3-430d-91c3-ee8591f9c69e",
   "metadata": {},
   "outputs": [
    {
     "data": {
      "image/png": "[encoded data removed]",
      "text/plain": [
       "<Figure size 432x288 with 1 Axes>"
      ]
     },
     "metadata": {
      "needs_background": "light"
     },
     "output_type": "display_data"
    }
   ],
   "source": [
    "ax = df['Sales'].plot.box()\n",
    "ax.set_ylabel('value');"
   ]
  }
 ],
 "metadata": {
  "kernelspec": {
   "display_name": "Python 3",
   "language": "python",
   "name": "python3"
  },
  "language_info": {
   "codemirror_mode": {
    "name": "ipython",
    "version": 3
   },
   "file_extension": ".py",
   "mimetype": "text/x-python",
   "name": "python",
   "nbconvert_exporter": "python",
   "pygments_lexer": "ipython3",
   "version": "3.8.8"
  }
 },
 "nbformat": 4,
 "nbformat_minor": 5
}
