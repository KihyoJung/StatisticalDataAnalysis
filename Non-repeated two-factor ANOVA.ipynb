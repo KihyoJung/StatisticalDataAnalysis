{
 "cells": [
  {
   "cell_type": "markdown",
   "id": "6577a7be-8d80-4c9d-a76b-58485f2afd54",
   "metadata": {},
   "source": [
    "# Non-repeated Two-factor Analysis of Variance"
   ]
  },
  {
   "cell_type": "markdown",
   "id": "55435baf-1e4a-4990-b448-9d4b07ff30eb",
   "metadata": {},
   "source": [
    "# 1. Data import"
   ]
  },
  {
   "cell_type": "code",
   "execution_count": 1,
   "id": "129a69e3-d521-4ec3-86e7-72b4295159d6",
   "metadata": {},
   "outputs": [
    {
     "data": {
      "text/html": [
       "<div>\n",
       "<style scoped>\n",
       "    .dataframe tbody tr th:only-of-type {\n",
       "        vertical-align: middle;\n",
       "    }\n",
       "\n",
       "    .dataframe tbody tr th {\n",
       "        vertical-align: top;\n",
       "    }\n",
       "\n",
       "    .dataframe thead th {\n",
       "        text-align: right;\n",
       "    }\n",
       "</style>\n",
       "<table border=\"1\" class=\"dataframe\">\n",
       "  <thead>\n",
       "    <tr style=\"text-align: right;\">\n",
       "      <th></th>\n",
       "      <th>Temperature</th>\n",
       "      <th>Material</th>\n",
       "      <th>Yield</th>\n",
       "    </tr>\n",
       "  </thead>\n",
       "  <tbody>\n",
       "    <tr>\n",
       "      <th>0</th>\n",
       "      <td>1</td>\n",
       "      <td>1</td>\n",
       "      <td>97.6</td>\n",
       "    </tr>\n",
       "    <tr>\n",
       "      <th>1</th>\n",
       "      <td>1</td>\n",
       "      <td>2</td>\n",
       "      <td>97.3</td>\n",
       "    </tr>\n",
       "    <tr>\n",
       "      <th>2</th>\n",
       "      <td>1</td>\n",
       "      <td>3</td>\n",
       "      <td>96.7</td>\n",
       "    </tr>\n",
       "    <tr>\n",
       "      <th>3</th>\n",
       "      <td>2</td>\n",
       "      <td>1</td>\n",
       "      <td>98.6</td>\n",
       "    </tr>\n",
       "    <tr>\n",
       "      <th>4</th>\n",
       "      <td>2</td>\n",
       "      <td>2</td>\n",
       "      <td>98.2</td>\n",
       "    </tr>\n",
       "  </tbody>\n",
       "</table>\n",
       "</div>"
      ],
      "text/plain": [
       "   Temperature  Material  Yield\n",
       "0            1         1   97.6\n",
       "1            1         2   97.3\n",
       "2            1         3   96.7\n",
       "3            2         1   98.6\n",
       "4            2         2   98.2"
      ]
     },
     "execution_count": 1,
     "metadata": {},
     "output_type": "execute_result"
    }
   ],
   "source": [
    "import pandas as pd\n",
    "\n",
    "df = pd.read_excel('Yield (non-repeated two factors).xlsx')\n",
    "df.head()"
   ]
  },
  {
   "cell_type": "code",
   "execution_count": 17,
   "id": "5d896fa3-166f-433f-a939-a2de0dbe2d4a",
   "metadata": {},
   "outputs": [
    {
     "data": {
      "image/png": "[encoded data removed]",
      "text/plain": [
       "<Figure size 408.75x360 with 1 Axes>"
      ]
     },
     "metadata": {
      "needs_background": "light"
     },
     "output_type": "display_data"
    }
   ],
   "source": [
    "import seaborn as sns\n",
    "ax = sns.catplot(x=\"Temperature\", y=\"Yield\", hue=\"Material\", data=df, kind=\"bar\");\n",
    "ax=ax.set(ylim=(90, 100))"
   ]
  },
  {
   "cell_type": "markdown",
   "id": "26cc5676-9413-48e8-a9a5-cb87e93cc328",
   "metadata": {},
   "source": [
    "# 2. Analysis"
   ]
  },
  {
   "cell_type": "markdown",
   "id": "8d2ce84c-62c1-4900-aa56-53b096c35443",
   "metadata": {},
   "source": [
    "## 2.1 Analysis of variance"
   ]
  },
  {
   "cell_type": "code",
   "execution_count": 4,
   "id": "3655d027-fd2f-4bb4-b957-968e37ae10d8",
   "metadata": {},
   "outputs": [
    {
     "name": "stdout",
     "output_type": "stream",
     "text": [
      "                 df  sum_sq   mean_sq          F    PR(>F)\n",
      "C(Temperature)  3.0    2.22  0.740000   7.928571  0.016470\n",
      "C(Material)     2.0    3.44  1.720000  18.428571  0.002744\n",
      "Residual        6.0    0.56  0.093333        NaN       NaN\n"
     ]
    }
   ],
   "source": [
    "import statsmodels.api as sm\n",
    "from statsmodels.formula.api import ols\n",
    "lm = ols('Yield ~ C(Temperature)+C(Material)', df).fit()\n",
    "table = sm.stats.anova_lm(lm)\n",
    "print(table)"
   ]
  },
  {
   "cell_type": "markdown",
   "id": "ad412766-bb17-4e85-9a21-8f61d695ed67",
   "metadata": {},
   "source": [
    "## 2.2. Post-hoc test"
   ]
  },
  {
   "cell_type": "code",
   "execution_count": 5,
   "id": "0e325f91-4552-41d5-9f40-53cee7506f42",
   "metadata": {},
   "outputs": [
    {
     "name": "stdout",
     "output_type": "stream",
     "text": [
      "Multiple Comparison of Means - Tukey HSD, FWER=0.05\n",
      "===================================================\n",
      "group1 group2 meandiff p-adj   lower  upper  reject\n",
      "---------------------------------------------------\n",
      "     1      2      0.7 0.6275 -1.1491 2.5491  False\n",
      "     1      3      1.1 0.2982 -0.7491 2.9491  False\n",
      "     1      4      0.2    0.9 -1.6491 2.0491  False\n",
      "     2      3      0.4 0.8933 -1.4491 2.2491  False\n",
      "     2      4     -0.5 0.8047 -2.3491 1.3491  False\n",
      "     3      4     -0.9 0.4514 -2.7491 0.9491  False\n",
      "---------------------------------------------------\n",
      "Multiple Comparison of Means - Tukey HSD, FWER=0.05 \n",
      "====================================================\n",
      "group1 group2 meandiff p-adj   lower   upper  reject\n",
      "----------------------------------------------------\n",
      "     1      2     -0.5 0.4455 -1.5963  0.5963  False\n",
      "     1      3     -1.3 0.0223 -2.3963 -0.2037   True\n",
      "     2      3     -0.8  0.159 -1.8963  0.2963  False\n",
      "----------------------------------------------------\n"
     ]
    }
   ],
   "source": [
    "from statsmodels.stats.multicomp import pairwise_tukeyhsd\n",
    "\n",
    "# perform multiple pairwise comparison (Tukey HSD)\n",
    "m_comp = pairwise_tukeyhsd(endog=df['Yield'], groups=df['Temperature'], alpha=0.05)\n",
    "print(m_comp)\n",
    "\n",
    "m_comp = pairwise_tukeyhsd(endog=df['Yield'], groups=df['Material'], alpha=0.05)\n",
    "print(m_comp)"
   ]
  },
  {
   "cell_type": "code",
   "execution_count": 13,
   "id": "a67d32ce-1e48-45b6-ade8-45b9c4b119e3",
   "metadata": {},
   "outputs": [
    {
     "data": {
      "image/png": "[encoded data removed]",
      "text/plain": [
       "<Figure size 432x288 with 1 Axes>"
      ]
     },
     "metadata": {
      "needs_background": "light"
     },
     "output_type": "display_data"
    }
   ],
   "source": [
    "ax=sns.barplot(x=df['Temperature'],y=df['Yield'],capsize=.1) # the cap is SE\n",
    "ax=ax.set(ylim=(90, 100))"
   ]
  },
  {
   "cell_type": "code",
   "execution_count": 15,
   "id": "04d1a834-e60e-4a26-9a1b-2b58cc4a4a83",
   "metadata": {},
   "outputs": [
    {
     "data": {
      "image/png": "[encoded data removed]",
      "text/plain": [
       "<Figure size 432x288 with 1 Axes>"
      ]
     },
     "metadata": {
      "needs_background": "light"
     },
     "output_type": "display_data"
    }
   ],
   "source": [
    "ax=sns.barplot(x=df['Material'],y=df['Yield'],capsize=.1) # the cap is SE\n",
    "ax=ax.set(ylim=(90, 100))"
   ]
  }
 ],
 "metadata": {
  "kernelspec": {
   "display_name": "Python 3",
   "language": "python",
   "name": "python3"
  },
  "language_info": {
   "codemirror_mode": {
    "name": "ipython",
    "version": 3
   },
   "file_extension": ".py",
   "mimetype": "text/x-python",
   "name": "python",
   "nbconvert_exporter": "python",
   "pygments_lexer": "ipython3",
   "version": "3.8.8"
  }
 },
 "nbformat": 4,
 "nbformat_minor": 5
}
