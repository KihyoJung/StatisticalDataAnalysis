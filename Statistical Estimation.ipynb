{
 "cells": [
  {
   "cell_type": "markdown",
   "id": "22e803ec-9234-4727-ae40-0c074dda924a",
   "metadata": {},
   "source": [
    "# Statistical Estimation"
   ]
  },
  {
   "cell_type": "markdown",
   "id": "d06a191b-6d49-4de1-97a5-2304ce649e7b",
   "metadata": {},
   "source": [
    "# 1. Import data"
   ]
  },
  {
   "cell_type": "code",
   "execution_count": 1,
   "id": "ffea41fe-0a08-4b3c-ac15-8e8f9eda062c",
   "metadata": {},
   "outputs": [
    {
     "data": {
      "text/html": [
       "<div>\n",
       "<style scoped>\n",
       "    .dataframe tbody tr th:only-of-type {\n",
       "        vertical-align: middle;\n",
       "    }\n",
       "\n",
       "    .dataframe tbody tr th {\n",
       "        vertical-align: top;\n",
       "    }\n",
       "\n",
       "    .dataframe thead th {\n",
       "        text-align: right;\n",
       "    }\n",
       "</style>\n",
       "<table border=\"1\" class=\"dataframe\">\n",
       "  <thead>\n",
       "    <tr style=\"text-align: right;\">\n",
       "      <th></th>\n",
       "      <th>weight</th>\n",
       "    </tr>\n",
       "  </thead>\n",
       "  <tbody>\n",
       "    <tr>\n",
       "      <th>0</th>\n",
       "      <td>9.0</td>\n",
       "    </tr>\n",
       "    <tr>\n",
       "      <th>1</th>\n",
       "      <td>9.1</td>\n",
       "    </tr>\n",
       "    <tr>\n",
       "      <th>2</th>\n",
       "      <td>8.8</td>\n",
       "    </tr>\n",
       "    <tr>\n",
       "      <th>3</th>\n",
       "      <td>9.1</td>\n",
       "    </tr>\n",
       "    <tr>\n",
       "      <th>4</th>\n",
       "      <td>9.0</td>\n",
       "    </tr>\n",
       "  </tbody>\n",
       "</table>\n",
       "</div>"
      ],
      "text/plain": [
       "   weight\n",
       "0     9.0\n",
       "1     9.1\n",
       "2     8.8\n",
       "3     9.1\n",
       "4     9.0"
      ]
     },
     "execution_count": 1,
     "metadata": {},
     "output_type": "execute_result"
    }
   ],
   "source": [
    "# https://pandas.pydata.org/docs/reference/api/pandas.DataFrame.plot.html\n",
    "import pandas as pd\n",
    "df = pd.read_excel('Product weight.xlsx')  \n",
    "df.head()"
   ]
  },
  {
   "cell_type": "code",
   "execution_count": 2,
   "id": "ecdfa13b-85c8-4f94-9224-ff624b57a372",
   "metadata": {},
   "outputs": [
    {
     "data": {
      "image/png": "[encoded data removed]",
      "text/plain": [
       "<Figure size 432x288 with 1 Axes>"
      ]
     },
     "metadata": {
      "needs_background": "light"
     },
     "output_type": "display_data"
    }
   ],
   "source": [
    "ax = df['weight'].plot.box()\n",
    "ax.set_ylabel('weight');"
   ]
  },
  {
   "cell_type": "markdown",
   "id": "4a741eae-006f-4275-a3cc-552399b92d8f",
   "metadata": {},
   "source": [
    "# 2. Confidence interval"
   ]
  },
  {
   "cell_type": "markdown",
   "id": "dbf57173-8526-4df5-a692-1742b26a8e05",
   "metadata": {},
   "source": [
    "## 2.1. Sigma is known as 0.2"
   ]
  },
  {
   "cell_type": "markdown",
   "id": "4e9ecc27-d63a-4901-bc04-f73f9262d278",
   "metadata": {},
   "source": [
    "Confidence interval: $ \\bar{x} \\pm z_{\\alpha/2} \\frac{\\sigma}{\\sqrt{n}}$"
   ]
  },
  {
   "cell_type": "code",
   "execution_count": 3,
   "id": "efdd8eb4-3efb-49bd-a285-d12377c7776d",
   "metadata": {},
   "outputs": [
    {
     "name": "stdout",
     "output_type": "stream",
     "text": [
      "Confidence interval =  (array([8.86933573]), array([9.13066427]))\n"
     ]
    }
   ],
   "source": [
    "# reference: https://docs.scipy.org/doc/scipy/reference/generated/scipy.stats.norm.html\n",
    "import scipy.stats as st\n",
    "import math\n",
    "sigma=0.2\n",
    "number_data=df.shape[0];\n",
    "sampleMean=df.mean()\n",
    "sampleStandardError=sigma/math.sqrt(number_data)\n",
    "confidenceInterval = st.norm.interval(alpha=0.95, loc=sampleMean, scale=sampleStandardError)\n",
    "print('Confidence interval = ', confidenceInterval)"
   ]
  },
  {
   "cell_type": "markdown",
   "id": "0615679e-35ac-4ff9-ae07-9aa121bd3248",
   "metadata": {},
   "source": [
    "## 2.2. Sigma is unknown"
   ]
  },
  {
   "cell_type": "markdown",
   "id": "5b0173b1-3acc-4d00-9aa7-fe0ad94cbef8",
   "metadata": {},
   "source": [
    "Confidence interval: $ \\bar{x} \\pm t_{\\alpha/2, \\theta} \\frac{s}{\\sqrt{n}}$"
   ]
  },
  {
   "cell_type": "code",
   "execution_count": 5,
   "id": "351c19dc-10b3-47a4-bbd9-d187a8d44f61",
   "metadata": {},
   "outputs": [
    {
     "name": "stdout",
     "output_type": "stream",
     "text": [
      "Confidence interval =  (array([8.81567988]), array([9.18432012]))\n"
     ]
    }
   ],
   "source": [
    "# reference: https://docs.scipy.org/doc/scipy/reference/generated/scipy.stats.t.html\n",
    "number_data=df.shape[0];\n",
    "degree_freedom=number_data-1\n",
    "sampleMean=df.mean()\n",
    "sampleStandardError=df.std()/math.sqrt(number_data)\n",
    "confidenceInterval = st.t.interval(alpha=0.95, df=degree_freedom, loc=sampleMean, scale=sampleStandardError)\n",
    "print('Confidence interval = ', confidenceInterval)"
   ]
  }
 ],
 "metadata": {
  "kernelspec": {
   "display_name": "Python 3",
   "language": "python",
   "name": "python3"
  },
  "language_info": {
   "codemirror_mode": {
    "name": "ipython",
    "version": 3
   },
   "file_extension": ".py",
   "mimetype": "text/x-python",
   "name": "python",
   "nbconvert_exporter": "python",
   "pygments_lexer": "ipython3",
   "version": "3.8.8"
  }
 },
 "nbformat": 4,
 "nbformat_minor": 5
}
