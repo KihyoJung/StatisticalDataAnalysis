{
 "cells": [
  {
   "cell_type": "markdown",
   "id": "22e803ec-9234-4727-ae40-0c074dda924a",
   "metadata": {},
   "source": [
    "# Statistical Testing"
   ]
  },
  {
   "cell_type": "markdown",
   "id": "dbf57173-8526-4df5-a692-1742b26a8e05",
   "metadata": {},
   "source": [
    "# 1. One-sample t test"
   ]
  },
  {
   "cell_type": "markdown",
   "id": "4a741eae-006f-4275-a3cc-552399b92d8f",
   "metadata": {},
   "source": [
    "## 1.1. Data import"
   ]
  },
  {
   "cell_type": "code",
   "execution_count": 1,
   "id": "ffea41fe-0a08-4b3c-ac15-8e8f9eda062c",
   "metadata": {},
   "outputs": [
    {
     "data": {
      "text/html": [
       "<div>\n",
       "<style scoped>\n",
       "    .dataframe tbody tr th:only-of-type {\n",
       "        vertical-align: middle;\n",
       "    }\n",
       "\n",
       "    .dataframe tbody tr th {\n",
       "        vertical-align: top;\n",
       "    }\n",
       "\n",
       "    .dataframe thead th {\n",
       "        text-align: right;\n",
       "    }\n",
       "</style>\n",
       "<table border=\"1\" class=\"dataframe\">\n",
       "  <thead>\n",
       "    <tr style=\"text-align: right;\">\n",
       "      <th></th>\n",
       "      <th>weight</th>\n",
       "    </tr>\n",
       "  </thead>\n",
       "  <tbody>\n",
       "    <tr>\n",
       "      <th>0</th>\n",
       "      <td>9.0</td>\n",
       "    </tr>\n",
       "    <tr>\n",
       "      <th>1</th>\n",
       "      <td>9.1</td>\n",
       "    </tr>\n",
       "    <tr>\n",
       "      <th>2</th>\n",
       "      <td>8.8</td>\n",
       "    </tr>\n",
       "    <tr>\n",
       "      <th>3</th>\n",
       "      <td>9.1</td>\n",
       "    </tr>\n",
       "    <tr>\n",
       "      <th>4</th>\n",
       "      <td>9.0</td>\n",
       "    </tr>\n",
       "  </tbody>\n",
       "</table>\n",
       "</div>"
      ],
      "text/plain": [
       "   weight\n",
       "0     9.0\n",
       "1     9.1\n",
       "2     8.8\n",
       "3     9.1\n",
       "4     9.0"
      ]
     },
     "execution_count": 1,
     "metadata": {},
     "output_type": "execute_result"
    }
   ],
   "source": [
    "# https://pandas.pydata.org/docs/reference/api/pandas.DataFrame.plot.html\n",
    "import pandas as pd\n",
    "df = pd.read_excel('Product weight.xlsx')  \n",
    "df.head()"
   ]
  },
  {
   "cell_type": "code",
   "execution_count": 2,
   "id": "b67fdd4f-bb71-46d8-8128-e1af78548b68",
   "metadata": {},
   "outputs": [
    {
     "data": {
      "image/png": "[encoded data removed]",
      "text/plain": [
       "<Figure size 432x288 with 1 Axes>"
      ]
     },
     "metadata": {
      "needs_background": "light"
     },
     "output_type": "display_data"
    }
   ],
   "source": [
    "ax = df['weight'].plot.box()\n",
    "ax.set_ylabel('weight');"
   ]
  },
  {
   "cell_type": "markdown",
   "id": "0615679e-35ac-4ff9-ae07-9aa121bd3248",
   "metadata": {},
   "source": [
    "## 1.2. Testing"
   ]
  },
  {
   "cell_type": "markdown",
   "id": "4e9ecc27-d63a-4901-bc04-f73f9262d278",
   "metadata": {},
   "source": [
    "H0: $\\mu = 8.8$ <br>\n",
    "H1: $\\mu \\ne 8.8$ <br>\n",
    "$ T = \\frac{\\bar{x} - \\mu}{\\frac{s}{\\sqrt{n}}}$"
   ]
  },
  {
   "cell_type": "code",
   "execution_count": 4,
   "id": "efdd8eb4-3efb-49bd-a285-d12377c7776d",
   "metadata": {},
   "outputs": [
    {
     "name": "stdout",
     "output_type": "stream",
     "text": [
      "T =  2.5021729686848895\n",
      "p =  0.0368171701202449\n"
     ]
    }
   ],
   "source": [
    "# reference: https://docs.scipy.org/doc/scipy/reference/stats.html\n",
    "import scipy.stats as st\n",
    "\n",
    "T, p=st.ttest_1samp(df['weight'], 8.8, alternative='two-sided')\n",
    "print('T = ', T)\n",
    "print('p = ', p)"
   ]
  },
  {
   "cell_type": "markdown",
   "id": "443542ce-6c9e-4efe-9e62-d44539d035ab",
   "metadata": {},
   "source": [
    "# 2. Two-sample t test"
   ]
  },
  {
   "cell_type": "markdown",
   "id": "03cc56b0-926c-4456-b28c-5109a45690c7",
   "metadata": {},
   "source": [
    "## 2.1. Data import"
   ]
  },
  {
   "cell_type": "code",
   "execution_count": 5,
   "id": "e725b97f-1caf-4da8-ad6a-1f68b77df69b",
   "metadata": {},
   "outputs": [
    {
     "data": {
      "text/html": [
       "<div>\n",
       "<style scoped>\n",
       "    .dataframe tbody tr th:only-of-type {\n",
       "        vertical-align: middle;\n",
       "    }\n",
       "\n",
       "    .dataframe tbody tr th {\n",
       "        vertical-align: top;\n",
       "    }\n",
       "\n",
       "    .dataframe thead th {\n",
       "        text-align: right;\n",
       "    }\n",
       "</style>\n",
       "<table border=\"1\" class=\"dataframe\">\n",
       "  <thead>\n",
       "    <tr style=\"text-align: right;\">\n",
       "      <th></th>\n",
       "      <th>Method 1</th>\n",
       "      <th>Method 2</th>\n",
       "    </tr>\n",
       "  </thead>\n",
       "  <tbody>\n",
       "    <tr>\n",
       "      <th>0</th>\n",
       "      <td>15</td>\n",
       "      <td>23</td>\n",
       "    </tr>\n",
       "    <tr>\n",
       "      <th>1</th>\n",
       "      <td>20</td>\n",
       "      <td>31</td>\n",
       "    </tr>\n",
       "    <tr>\n",
       "      <th>2</th>\n",
       "      <td>11</td>\n",
       "      <td>13</td>\n",
       "    </tr>\n",
       "    <tr>\n",
       "      <th>3</th>\n",
       "      <td>20</td>\n",
       "      <td>19</td>\n",
       "    </tr>\n",
       "    <tr>\n",
       "      <th>4</th>\n",
       "      <td>16</td>\n",
       "      <td>23</td>\n",
       "    </tr>\n",
       "  </tbody>\n",
       "</table>\n",
       "</div>"
      ],
      "text/plain": [
       "   Method 1  Method 2\n",
       "0        15        23\n",
       "1        20        31\n",
       "2        11        13\n",
       "3        20        19\n",
       "4        16        23"
      ]
     },
     "execution_count": 5,
     "metadata": {},
     "output_type": "execute_result"
    }
   ],
   "source": [
    "df = pd.read_excel('Method comparison.xlsx')  \n",
    "df.head()"
   ]
  },
  {
   "cell_type": "code",
   "execution_count": 6,
   "id": "45187369-43dc-4364-9919-7a199b68dc4e",
   "metadata": {},
   "outputs": [
    {
     "data": {
      "image/png": "[encoded data removed]",
      "text/plain": [
       "<Figure size 432x288 with 1 Axes>"
      ]
     },
     "metadata": {
      "needs_background": "light"
     },
     "output_type": "display_data"
    }
   ],
   "source": [
    "ax = df[['Method 1','Method 2']].plot.box()\n",
    "ax.set_ylabel('Performance');"
   ]
  },
  {
   "cell_type": "markdown",
   "id": "cae1aba6-0aff-4789-ae17-ff58a96ca52e",
   "metadata": {},
   "source": [
    "## 2.2 Equal variance test\n",
    "\n",
    "H0: equal variance <br>\n",
    "H1: Unequal variance"
   ]
  },
  {
   "cell_type": "code",
   "execution_count": 7,
   "id": "6c64dbb3-4da8-4702-900e-30bb7275a752",
   "metadata": {},
   "outputs": [
    {
     "name": "stdout",
     "output_type": "stream",
     "text": [
      "W =  0.2713846153846152\n",
      "p =  0.6087542734258722\n"
     ]
    }
   ],
   "source": [
    "W, p = st.levene(df['Method 1'],df['Method 2'])\n",
    "print('W = ', W)\n",
    "print('p = ', p)"
   ]
  },
  {
   "cell_type": "markdown",
   "id": "7e3c822c-69c6-4806-ae1e-9173b6bfb485",
   "metadata": {},
   "source": [
    "## 2.3. Testing (equal variance)"
   ]
  },
  {
   "cell_type": "markdown",
   "id": "5b0173b1-3acc-4d00-9aa7-fe0ad94cbef8",
   "metadata": {},
   "source": [
    "H0: $\\mu_1 = \\mu_2$ <br>\n",
    "H1: $\\mu_1 \\ne \\mu_2$ <br>\n",
    "$ T = \\frac{(\\bar{x_1}-\\bar{x_2}) - (\\mu_1-\\mu_2)}{s^2(\\frac{1}{n_1}+\\frac{1}{n_2})}$"
   ]
  },
  {
   "cell_type": "code",
   "execution_count": 8,
   "id": "351c19dc-10b3-47a4-bbd9-d187a8d44f61",
   "metadata": {},
   "outputs": [
    {
     "name": "stdout",
     "output_type": "stream",
     "text": [
      "T =  -1.9656257388581932\n",
      "p =  0.0649626699019287\n"
     ]
    }
   ],
   "source": [
    "T,p=st.ttest_ind(df['Method 1'],df['Method 2'],equal_var='True',alternative='two-sided')\n",
    "print('T = ', T)\n",
    "print('p = ', p)"
   ]
  },
  {
   "cell_type": "markdown",
   "id": "dc0efd77-cdeb-4243-b4c3-fba27e1a4552",
   "metadata": {},
   "source": [
    "# 3. Paired t test"
   ]
  },
  {
   "cell_type": "markdown",
   "id": "657a5cdc-0802-4ac5-a97f-199a7e52406c",
   "metadata": {},
   "source": [
    "## 3.1. Data import"
   ]
  },
  {
   "cell_type": "code",
   "execution_count": 11,
   "id": "9697875a-0343-43d5-9e60-461812f63def",
   "metadata": {},
   "outputs": [
    {
     "data": {
      "text/html": [
       "<div>\n",
       "<style scoped>\n",
       "    .dataframe tbody tr th:only-of-type {\n",
       "        vertical-align: middle;\n",
       "    }\n",
       "\n",
       "    .dataframe tbody tr th {\n",
       "        vertical-align: top;\n",
       "    }\n",
       "\n",
       "    .dataframe thead th {\n",
       "        text-align: right;\n",
       "    }\n",
       "</style>\n",
       "<table border=\"1\" class=\"dataframe\">\n",
       "  <thead>\n",
       "    <tr style=\"text-align: right;\">\n",
       "      <th></th>\n",
       "      <th>Left hand</th>\n",
       "      <th>Right hand</th>\n",
       "    </tr>\n",
       "  </thead>\n",
       "  <tbody>\n",
       "    <tr>\n",
       "      <th>0</th>\n",
       "      <td>140</td>\n",
       "      <td>138</td>\n",
       "    </tr>\n",
       "    <tr>\n",
       "      <th>1</th>\n",
       "      <td>90</td>\n",
       "      <td>87</td>\n",
       "    </tr>\n",
       "    <tr>\n",
       "      <th>2</th>\n",
       "      <td>125</td>\n",
       "      <td>110</td>\n",
       "    </tr>\n",
       "    <tr>\n",
       "      <th>3</th>\n",
       "      <td>130</td>\n",
       "      <td>132</td>\n",
       "    </tr>\n",
       "    <tr>\n",
       "      <th>4</th>\n",
       "      <td>95</td>\n",
       "      <td>96</td>\n",
       "    </tr>\n",
       "  </tbody>\n",
       "</table>\n",
       "</div>"
      ],
      "text/plain": [
       "   Left hand  Right hand\n",
       "0        140         138\n",
       "1         90          87\n",
       "2        125         110\n",
       "3        130         132\n",
       "4         95          96"
      ]
     },
     "execution_count": 11,
     "metadata": {},
     "output_type": "execute_result"
    }
   ],
   "source": [
    "df = pd.read_excel('Hand strength comparison.xlsx')  \n",
    "df.head()"
   ]
  },
  {
   "cell_type": "code",
   "execution_count": 10,
   "id": "36ce186e-3c32-4d7c-bab6-f7e56b409e7b",
   "metadata": {},
   "outputs": [
    {
     "data": {
      "image/png": "[encoded data removed]",
      "text/plain": [
       "<Figure size 432x288 with 1 Axes>"
      ]
     },
     "metadata": {
      "needs_background": "light"
     },
     "output_type": "display_data"
    }
   ],
   "source": [
    "ax = df[['Left hand','Right hand']].plot.box()\n",
    "ax.set_ylabel('Strength');"
   ]
  },
  {
   "cell_type": "markdown",
   "id": "28d35f94-5145-4252-8785-65b4aeafba78",
   "metadata": {},
   "source": [
    "# 3.2. Testing"
   ]
  },
  {
   "cell_type": "markdown",
   "id": "a796d243-53f5-4302-acd3-a8f0baa4efad",
   "metadata": {},
   "source": [
    "H0: $ d = 0$ <br>\n",
    "H1: $d \\ne 0$ <br>\n",
    "$ T = \\frac{\\bar{d}-\\mu_d}{\\sqrt{\\frac{s^2_d}{n}}}$"
   ]
  },
  {
   "cell_type": "code",
   "execution_count": 12,
   "id": "f2f353e4-ddb2-4490-9358-269445ba8ef8",
   "metadata": {},
   "outputs": [
    {
     "name": "stdout",
     "output_type": "stream",
     "text": [
      "T =  2.084646878501894\n",
      "p =  0.06676035762365663\n"
     ]
    }
   ],
   "source": [
    "T,p=st.ttest_rel(df['Left hand'],df['Right hand'], alternative='two-sided')\n",
    "print('T = ', T)\n",
    "print('p = ', p)"
   ]
  }
 ],
 "metadata": {
  "kernelspec": {
   "display_name": "Python 3",
   "language": "python",
   "name": "python3"
  },
  "language_info": {
   "codemirror_mode": {
    "name": "ipython",
    "version": 3
   },
   "file_extension": ".py",
   "mimetype": "text/x-python",
   "name": "python",
   "nbconvert_exporter": "python",
   "pygments_lexer": "ipython3",
   "version": "3.8.8"
  }
 },
 "nbformat": 4,
 "nbformat_minor": 5
}
