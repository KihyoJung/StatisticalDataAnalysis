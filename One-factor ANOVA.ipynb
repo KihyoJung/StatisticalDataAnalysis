{
 "cells": [
  {
   "cell_type": "markdown",
   "id": "6577a7be-8d80-4c9d-a76b-58485f2afd54",
   "metadata": {},
   "source": [
    "# One-factor Analysis of Variance"
   ]
  },
  {
   "cell_type": "markdown",
   "id": "55435baf-1e4a-4990-b448-9d4b07ff30eb",
   "metadata": {},
   "source": [
    "# 1. Data import"
   ]
  },
  {
   "cell_type": "code",
   "execution_count": 1,
   "id": "129a69e3-d521-4ec3-86e7-72b4295159d6",
   "metadata": {},
   "outputs": [
    {
     "data": {
      "text/html": [
       "<div>\n",
       "<style scoped>\n",
       "    .dataframe tbody tr th:only-of-type {\n",
       "        vertical-align: middle;\n",
       "    }\n",
       "\n",
       "    .dataframe tbody tr th {\n",
       "        vertical-align: top;\n",
       "    }\n",
       "\n",
       "    .dataframe thead th {\n",
       "        text-align: right;\n",
       "    }\n",
       "</style>\n",
       "<table border=\"1\" class=\"dataframe\">\n",
       "  <thead>\n",
       "    <tr style=\"text-align: right;\">\n",
       "      <th></th>\n",
       "      <th>A</th>\n",
       "      <th>Resistance</th>\n",
       "    </tr>\n",
       "  </thead>\n",
       "  <tbody>\n",
       "    <tr>\n",
       "      <th>0</th>\n",
       "      <td>1</td>\n",
       "      <td>1.93</td>\n",
       "    </tr>\n",
       "    <tr>\n",
       "      <th>1</th>\n",
       "      <td>1</td>\n",
       "      <td>2.38</td>\n",
       "    </tr>\n",
       "    <tr>\n",
       "      <th>2</th>\n",
       "      <td>1</td>\n",
       "      <td>2.20</td>\n",
       "    </tr>\n",
       "    <tr>\n",
       "      <th>3</th>\n",
       "      <td>1</td>\n",
       "      <td>2.25</td>\n",
       "    </tr>\n",
       "    <tr>\n",
       "      <th>4</th>\n",
       "      <td>2</td>\n",
       "      <td>2.55</td>\n",
       "    </tr>\n",
       "  </tbody>\n",
       "</table>\n",
       "</div>"
      ],
      "text/plain": [
       "   A  Resistance\n",
       "0  1        1.93\n",
       "1  1        2.38\n",
       "2  1        2.20\n",
       "3  1        2.25\n",
       "4  2        2.55"
      ]
     },
     "execution_count": 1,
     "metadata": {},
     "output_type": "execute_result"
    }
   ],
   "source": [
    "import pandas as pd\n",
    "\n",
    "df = pd.read_excel('Resistance (one factor).xlsx')\n",
    "df.head()"
   ]
  },
  {
   "cell_type": "code",
   "execution_count": 7,
   "id": "d5ee82d7-f3d7-46f1-b6a6-eeb3e501fed2",
   "metadata": {},
   "outputs": [
    {
     "data": {
      "image/png": "[encoded data removed]",
      "text/plain": [
       "<Figure size 432x288 with 1 Axes>"
      ]
     },
     "metadata": {
      "needs_background": "light"
     },
     "output_type": "display_data"
    }
   ],
   "source": [
    "# reference: https://seaborn.pydata.org/generated/seaborn.barplot.html\n",
    "import seaborn as sns\n",
    "ax=sns.barplot(x=df['A'],y=df['Resistance'],capsize=.1) # the cap is SE"
   ]
  },
  {
   "cell_type": "markdown",
   "id": "26cc5676-9413-48e8-a9a5-cb87e93cc328",
   "metadata": {},
   "source": [
    "# 2. Analysis"
   ]
  },
  {
   "cell_type": "markdown",
   "id": "8d2ce84c-62c1-4900-aa56-53b096c35443",
   "metadata": {},
   "source": [
    "## 2.1 Analysis of variance"
   ]
  },
  {
   "cell_type": "code",
   "execution_count": null,
   "id": "3655d027-fd2f-4bb4-b957-968e37ae10d8",
   "metadata": {},
   "outputs": [],
   "source": [
    "# ANOVA results with combinations of 2 groups:\n",
    "import statsmodels.api as sm\n",
    "from statsmodels.formula.api import ols\n",
    "lm = ols('Resistance ~ C(A)', df).fit()\n",
    "table = sm.stats.anova_lm(lm)\n",
    "print(table)"
   ]
  },
  {
   "cell_type": "markdown",
   "id": "2642cd94-c8cf-4ae8-8424-9bb43ef31ae7",
   "metadata": {},
   "source": [
    "## 2.2. Post-hoc test"
   ]
  },
  {
   "cell_type": "code",
   "execution_count": 12,
   "id": "0e325f91-4552-41d5-9f40-53cee7506f42",
   "metadata": {},
   "outputs": [
    {
     "name": "stdout",
     "output_type": "stream",
     "text": [
      "Multiple Comparison of Means - Tukey HSD, FWER=0.05 \n",
      "====================================================\n",
      "group1 group2 meandiff p-adj   lower   upper  reject\n",
      "----------------------------------------------------\n",
      "     1      2     0.49 0.0018  0.1939  0.7861   True\n",
      "     1      3     0.23  0.151 -0.0661  0.5261  False\n",
      "     1      4     0.12 0.6262 -0.1761  0.4161  False\n",
      "     2      3    -0.26 0.0924 -0.5561  0.0361  False\n",
      "     2      4    -0.37 0.0137 -0.6661 -0.0739   True\n",
      "     3      4    -0.11 0.6797 -0.4061  0.1861  False\n",
      "----------------------------------------------------\n"
     ]
    }
   ],
   "source": [
    "from statsmodels.stats.multicomp import pairwise_tukeyhsd\n",
    "\n",
    "# perform multiple pairwise comparison (Tukey HSD)\n",
    "m_comp = pairwise_tukeyhsd(endog=df['Resistance'], groups=df['A'], alpha=0.05)\n",
    "print(m_comp)"
   ]
  }
 ],
 "metadata": {
  "kernelspec": {
   "display_name": "Python 3",
   "language": "python",
   "name": "python3"
  },
  "language_info": {
   "codemirror_mode": {
    "name": "ipython",
    "version": 3
   },
   "file_extension": ".py",
   "mimetype": "text/x-python",
   "name": "python",
   "nbconvert_exporter": "python",
   "pygments_lexer": "ipython3",
   "version": "3.8.8"
  }
 },
 "nbformat": 4,
 "nbformat_minor": 5
}
