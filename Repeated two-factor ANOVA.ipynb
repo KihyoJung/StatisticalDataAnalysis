{
 "cells": [
  {
   "cell_type": "markdown",
   "id": "6577a7be-8d80-4c9d-a76b-58485f2afd54",
   "metadata": {},
   "source": [
    "# Repeated Two-factor Analysis of Variance"
   ]
  },
  {
   "cell_type": "markdown",
   "id": "55435baf-1e4a-4990-b448-9d4b07ff30eb",
   "metadata": {},
   "source": [
    "# 1. Data import"
   ]
  },
  {
   "cell_type": "code",
   "execution_count": 33,
   "id": "129a69e3-d521-4ec3-86e7-72b4295159d6",
   "metadata": {},
   "outputs": [
    {
     "data": {
      "text/html": [
       "<div>\n",
       "<style scoped>\n",
       "    .dataframe tbody tr th:only-of-type {\n",
       "        vertical-align: middle;\n",
       "    }\n",
       "\n",
       "    .dataframe tbody tr th {\n",
       "        vertical-align: top;\n",
       "    }\n",
       "\n",
       "    .dataframe thead th {\n",
       "        text-align: right;\n",
       "    }\n",
       "</style>\n",
       "<table border=\"1\" class=\"dataframe\">\n",
       "  <thead>\n",
       "    <tr style=\"text-align: right;\">\n",
       "      <th></th>\n",
       "      <th>A</th>\n",
       "      <th>B</th>\n",
       "      <th>Intensity</th>\n",
       "    </tr>\n",
       "  </thead>\n",
       "  <tbody>\n",
       "    <tr>\n",
       "      <th>0</th>\n",
       "      <td>1</td>\n",
       "      <td>1</td>\n",
       "      <td>305</td>\n",
       "    </tr>\n",
       "    <tr>\n",
       "      <th>1</th>\n",
       "      <td>1</td>\n",
       "      <td>1</td>\n",
       "      <td>302</td>\n",
       "    </tr>\n",
       "    <tr>\n",
       "      <th>2</th>\n",
       "      <td>1</td>\n",
       "      <td>2</td>\n",
       "      <td>335</td>\n",
       "    </tr>\n",
       "    <tr>\n",
       "      <th>3</th>\n",
       "      <td>1</td>\n",
       "      <td>2</td>\n",
       "      <td>337</td>\n",
       "    </tr>\n",
       "    <tr>\n",
       "      <th>4</th>\n",
       "      <td>1</td>\n",
       "      <td>3</td>\n",
       "      <td>366</td>\n",
       "    </tr>\n",
       "  </tbody>\n",
       "</table>\n",
       "</div>"
      ],
      "text/plain": [
       "   A  B  Intensity\n",
       "0  1  1        305\n",
       "1  1  1        302\n",
       "2  1  2        335\n",
       "3  1  2        337\n",
       "4  1  3        366"
      ]
     },
     "execution_count": 33,
     "metadata": {},
     "output_type": "execute_result"
    }
   ],
   "source": [
    "import pandas as pd\n",
    "\n",
    "df = pd.read_excel('Intensity (repeated two factors).xlsx')\n",
    "df.head()"
   ]
  },
  {
   "cell_type": "code",
   "execution_count": 36,
   "id": "5d896fa3-166f-433f-a939-a2de0dbe2d4a",
   "metadata": {},
   "outputs": [
    {
     "data": {
      "image/png": "[encoded data removed]",
      "text/plain": [
       "<Figure size 402.375x360 with 1 Axes>"
      ]
     },
     "metadata": {
      "needs_background": "light"
     },
     "output_type": "display_data"
    }
   ],
   "source": [
    "import seaborn as sns\n",
    "g = sns.catplot(x=\"A\", y=\"Intensity\", hue=\"B\", data=df, kind=\"bar\");"
   ]
  },
  {
   "cell_type": "markdown",
   "id": "26cc5676-9413-48e8-a9a5-cb87e93cc328",
   "metadata": {},
   "source": [
    "# 2. Analysis"
   ]
  },
  {
   "cell_type": "markdown",
   "id": "8d2ce84c-62c1-4900-aa56-53b096c35443",
   "metadata": {},
   "source": [
    "## 2.1 Analysis of variance"
   ]
  },
  {
   "cell_type": "code",
   "execution_count": 18,
   "id": "3655d027-fd2f-4bb4-b957-968e37ae10d8",
   "metadata": {},
   "outputs": [
    {
     "name": "stdout",
     "output_type": "stream",
     "text": [
      "             df       sum_sq      mean_sq       F        PR(>F)\n",
      "C(A)        2.0  3088.222222  1544.111111  694.85  9.138219e-18\n",
      "C(B)        5.0  5548.888889  1109.777778  499.40  1.203726e-18\n",
      "C(A):C(B)  10.0  4825.777778   482.577778  217.16  1.190081e-16\n",
      "Residual   18.0    40.000000     2.222222     NaN           NaN\n"
     ]
    }
   ],
   "source": [
    "import statsmodels.api as sm\n",
    "from statsmodels.formula.api import ols\n",
    "lm = ols('Intensity ~ C(A)+C(B)+C(A):C(B)', df).fit()\n",
    "table = sm.stats.anova_lm(lm)\n",
    "print(table)"
   ]
  },
  {
   "cell_type": "markdown",
   "id": "ad412766-bb17-4e85-9a21-8f61d695ed67",
   "metadata": {},
   "source": [
    "## 2.2. Post-hoc test"
   ]
  },
  {
   "cell_type": "markdown",
   "id": "56089024-a9dd-4d45-af67-4fb17739e0f1",
   "metadata": {},
   "source": [
    "### 2.2.1. Simple effect test"
   ]
  },
  {
   "cell_type": "code",
   "execution_count": 37,
   "id": "0926a92a-013e-4721-bf26-9a7dcb0ca33c",
   "metadata": {},
   "outputs": [
    {
     "name": "stdout",
     "output_type": "stream",
     "text": [
      "B@A1\n",
      " Multiple Comparison of Means - Tukey HSD, FWER=0.05  \n",
      "======================================================\n",
      "group1 group2 meandiff p-adj   lower    upper   reject\n",
      "------------------------------------------------------\n",
      "     1      2     32.5  0.001  25.7988  39.2012   True\n",
      "     1      3     61.5  0.001  54.7988  68.2012   True\n",
      "     1      4     69.5  0.001  62.7988  76.2012   True\n",
      "     1      5     71.0  0.001  64.2988  77.7012   True\n",
      "     1      6     45.5  0.001  38.7988  52.2012   True\n",
      "     2      3     29.0  0.001  22.2988  35.7012   True\n",
      "     2      4     37.0  0.001  30.2988  43.7012   True\n",
      "     2      5     38.5  0.001  31.7988  45.2012   True\n",
      "     2      6     13.0 0.0019   6.2988  19.7012   True\n",
      "     3      4      8.0 0.0228   1.2988  14.7012   True\n",
      "     3      5      9.5   0.01   2.7988  16.2012   True\n",
      "     3      6    -16.0  0.001 -22.7012  -9.2988   True\n",
      "     4      5      1.5    0.9  -5.2012   8.2012  False\n",
      "     4      6    -24.0  0.001 -30.7012 -17.2988   True\n",
      "     5      6    -25.5  0.001 -32.2012 -18.7988   True\n",
      "------------------------------------------------------\n",
      "B@A2\n",
      " Multiple Comparison of Means - Tukey HSD, FWER=0.05  \n",
      "======================================================\n",
      "group1 group2 meandiff p-adj   lower    upper   reject\n",
      "------------------------------------------------------\n",
      "     1      2     25.5  0.001  19.2053  31.7947   True\n",
      "     1      3      1.5    0.9  -4.7947   7.7947  False\n",
      "     1      4      6.5 0.0436   0.2053  12.7947   True\n",
      "     1      5      5.0 0.1223  -1.2947  11.2947  False\n",
      "     1      6    -14.5  0.001 -20.7947  -8.2053   True\n",
      "     2      3    -24.0  0.001 -30.2947 -17.7053   True\n",
      "     2      4    -19.0  0.001 -25.2947 -12.7053   True\n",
      "     2      5    -20.5  0.001 -26.7947 -14.2053   True\n",
      "     2      6    -40.0  0.001 -46.2947 -33.7053   True\n",
      "     3      4      5.0 0.1223  -1.2947  11.2947  False\n",
      "     3      5      3.5 0.3493  -2.7947   9.7947  False\n",
      "     3      6    -16.0  0.001 -22.2947  -9.7053   True\n",
      "     4      5     -1.5    0.9  -7.7947   4.7947  False\n",
      "     4      6    -21.0  0.001 -27.2947 -14.7053   True\n",
      "     5      6    -19.5  0.001 -25.7947 -13.2053   True\n",
      "------------------------------------------------------\n",
      "B@A3\n",
      "Multiple Comparison of Means - Tukey HSD, FWER=0.05 \n",
      "====================================================\n",
      "group1 group2 meandiff p-adj   lower   upper  reject\n",
      "----------------------------------------------------\n",
      "     1      2     22.0  0.001  17.403  26.597   True\n",
      "     1      3     16.0  0.001  11.403  20.597   True\n",
      "     1      4     27.0  0.001  22.403  31.597   True\n",
      "     1      5     29.0  0.001  24.403  33.597   True\n",
      "     1      6      8.0 0.0035   3.403  12.597   True\n",
      "     2      3     -6.0 0.0149 -10.597  -1.403   True\n",
      "     2      4      5.0 0.0348   0.403   9.597   True\n",
      "     2      5      7.0 0.0069   2.403  11.597   True\n",
      "     2      6    -14.0  0.001 -18.597  -9.403   True\n",
      "     3      4     11.0  0.001   6.403  15.597   True\n",
      "     3      5     13.0  0.001   8.403  17.597   True\n",
      "     3      6     -8.0 0.0035 -12.597  -3.403   True\n",
      "     4      5      2.0 0.5577  -2.597   6.597  False\n",
      "     4      6    -19.0  0.001 -23.597 -14.403   True\n",
      "     5      6    -21.0  0.001 -25.597 -16.403   True\n",
      "----------------------------------------------------\n"
     ]
    }
   ],
   "source": [
    "df_A1=df.loc[df['A'] == 1]\n",
    "m_comp = pairwise_tukeyhsd(endog=df_A1['Intensity'], groups=df_A1['B'], alpha=0.05)\n",
    "print('B@A1')\n",
    "print(m_comp)\n",
    "\n",
    "df_A2=df.loc[df['A'] == 2]\n",
    "m_comp = pairwise_tukeyhsd(endog=df_A2['Intensity'], groups=df_A2['B'], alpha=0.05)\n",
    "print('B@A2')\n",
    "print(m_comp)\n",
    "\n",
    "df_A3=df.loc[df['A'] == 3]\n",
    "m_comp = pairwise_tukeyhsd(endog=df_A3['Intensity'], groups=df_A3['B'], alpha=0.05)\n",
    "print('B@A3')\n",
    "print(m_comp)"
   ]
  },
  {
   "cell_type": "markdown",
   "id": "e660f084-c1a5-4838-b501-0aefaac8772f",
   "metadata": {},
   "source": [
    "### 2.2.2. Tukey test"
   ]
  },
  {
   "cell_type": "code",
   "execution_count": 38,
   "id": "0e325f91-4552-41d5-9f40-53cee7506f42",
   "metadata": {},
   "outputs": [
    {
     "name": "stdout",
     "output_type": "stream",
     "text": [
      " Multiple Comparison of Means - Tukey HSD, FWER=0.05 \n",
      "=====================================================\n",
      "group1 group2 meandiff p-adj   lower    upper  reject\n",
      "-----------------------------------------------------\n",
      "     1      2 -22.6667   0.01 -40.4597 -4.8736   True\n",
      "     1      3 -12.1667  0.229 -29.9597  5.6264  False\n",
      "     2      3     10.5 0.3292  -7.2931 28.2931  False\n",
      "-----------------------------------------------------\n",
      " Multiple Comparison of Means - Tukey HSD, FWER=0.05 \n",
      "=====================================================\n",
      "group1 group2 meandiff p-adj   lower    upper  reject\n",
      "-----------------------------------------------------\n",
      "     1      2  26.6667 0.0788  -1.9263 55.2596  False\n",
      "     1      3  26.3333  0.085  -2.2596 54.9263  False\n",
      "     1      4  34.3333 0.0115   5.7404 62.9263   True\n",
      "     1      5     35.0 0.0096    6.407  63.593   True\n",
      "     1      6     13.0 0.7118  -15.593  41.593  False\n",
      "     2      3  -0.3333    0.9 -28.9263 28.2596  False\n",
      "     2      4   7.6667    0.9 -20.9263 36.2596  False\n",
      "     2      5   8.3333    0.9 -20.2596 36.9263  False\n",
      "     2      6 -13.6667 0.6728 -42.2596 14.9263  False\n",
      "     3      4      8.0    0.9  -20.593  36.593  False\n",
      "     3      5   8.6667    0.9 -19.9263 37.2596  False\n",
      "     3      6 -13.3333 0.6923 -41.9263 15.2596  False\n",
      "     4      5   0.6667    0.9 -27.9263 29.2596  False\n",
      "     4      6 -21.3333 0.2377 -49.9263  7.2596  False\n",
      "     5      6    -22.0   0.21  -50.593   6.593  False\n",
      "-----------------------------------------------------\n"
     ]
    }
   ],
   "source": [
    "from statsmodels.stats.multicomp import pairwise_tukeyhsd\n",
    "\n",
    "# perform multiple pairwise comparison (Tukey HSD)\n",
    "m_comp = pairwise_tukeyhsd(endog=df['Intensity'], groups=df['A'], alpha=0.05)\n",
    "print(m_comp)\n",
    "\n",
    "m_comp = pairwise_tukeyhsd(endog=df['Intensity'], groups=df['B'], alpha=0.05)\n",
    "print(m_comp)"
   ]
  },
  {
   "cell_type": "code",
   "execution_count": 42,
   "id": "a67d32ce-1e48-45b6-ade8-45b9c4b119e3",
   "metadata": {},
   "outputs": [
    {
     "data": {
      "image/png": "[encoded data removed]",
      "text/plain": [
       "<Figure size 432x288 with 1 Axes>"
      ]
     },
     "metadata": {
      "needs_background": "light"
     },
     "output_type": "display_data"
    }
   ],
   "source": [
    "ax=sns.barplot(x=df['A'],y=df['Intensity'],capsize=.1) # the cap is SE"
   ]
  },
  {
   "cell_type": "code",
   "execution_count": 41,
   "id": "04d1a834-e60e-4a26-9a1b-2b58cc4a4a83",
   "metadata": {},
   "outputs": [
    {
     "data": {
      "image/png": "[encoded data removed]",
      "text/plain": [
       "<Figure size 432x288 with 1 Axes>"
      ]
     },
     "metadata": {
      "needs_background": "light"
     },
     "output_type": "display_data"
    }
   ],
   "source": [
    "ax=sns.barplot(x=df['B'],y=df['Intensity'],capsize=.1) # the cap is SE"
   ]
  }
 ],
 "metadata": {
  "kernelspec": {
   "display_name": "Python 3",
   "language": "python",
   "name": "python3"
  },
  "language_info": {
   "codemirror_mode": {
    "name": "ipython",
    "version": 3
   },
   "file_extension": ".py",
   "mimetype": "text/x-python",
   "name": "python",
   "nbconvert_exporter": "python",
   "pygments_lexer": "ipython3",
   "version": "3.8.8"
  }
 },
 "nbformat": 4,
 "nbformat_minor": 5
}
