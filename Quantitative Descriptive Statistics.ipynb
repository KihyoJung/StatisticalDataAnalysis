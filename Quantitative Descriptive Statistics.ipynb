{
 "cells": [
  {
   "cell_type": "markdown",
   "id": "0ab7b5b8-466e-493d-b2d7-d9ef9c2fbae9",
   "metadata": {},
   "source": [
    "# Quantitative Descriptive Statistics"
   ]
  },
  {
   "cell_type": "markdown",
   "id": "d06a191b-6d49-4de1-97a5-2304ce649e7b",
   "metadata": {},
   "source": [
    "# 1. Import data"
   ]
  },
  {
   "cell_type": "code",
   "execution_count": 8,
   "id": "b148ac1c-3d53-4b53-b613-7580f0aaa013",
   "metadata": {},
   "outputs": [
    {
     "data": {
      "text/html": [
       "<div>\n",
       "<style scoped>\n",
       "    .dataframe tbody tr th:only-of-type {\n",
       "        vertical-align: middle;\n",
       "    }\n",
       "\n",
       "    .dataframe tbody tr th {\n",
       "        vertical-align: top;\n",
       "    }\n",
       "\n",
       "    .dataframe thead th {\n",
       "        text-align: right;\n",
       "    }\n",
       "</style>\n",
       "<table border=\"1\" class=\"dataframe\">\n",
       "  <thead>\n",
       "    <tr style=\"text-align: right;\">\n",
       "      <th></th>\n",
       "      <th>Number of cycles to failure</th>\n",
       "    </tr>\n",
       "  </thead>\n",
       "  <tbody>\n",
       "    <tr>\n",
       "      <th>0</th>\n",
       "      <td>375</td>\n",
       "    </tr>\n",
       "    <tr>\n",
       "      <th>1</th>\n",
       "      <td>706</td>\n",
       "    </tr>\n",
       "    <tr>\n",
       "      <th>2</th>\n",
       "      <td>758</td>\n",
       "    </tr>\n",
       "    <tr>\n",
       "      <th>3</th>\n",
       "      <td>785</td>\n",
       "    </tr>\n",
       "    <tr>\n",
       "      <th>4</th>\n",
       "      <td>798</td>\n",
       "    </tr>\n",
       "  </tbody>\n",
       "</table>\n",
       "</div>"
      ],
      "text/plain": [
       "   Number of cycles to failure\n",
       "0                          375\n",
       "1                          706\n",
       "2                          758\n",
       "3                          785\n",
       "4                          798"
      ]
     },
     "execution_count": 8,
     "metadata": {},
     "output_type": "execute_result"
    }
   ],
   "source": [
    "# panda reference - https://pandas.pydata.org/docs/reference/frame.html\n",
    "import pandas as pd\n",
    "df = pd.read_excel('Number of cycles to failure.xlsx')  \n",
    "df.head()"
   ]
  },
  {
   "cell_type": "markdown",
   "id": "4a741eae-006f-4275-a3cc-552399b92d8f",
   "metadata": {},
   "source": [
    "# 2. Summary statistics"
   ]
  },
  {
   "cell_type": "code",
   "execution_count": 2,
   "id": "efdd8eb4-3efb-49bd-a285-d12377c7776d",
   "metadata": {},
   "outputs": [
    {
     "data": {
      "text/html": [
       "<div>\n",
       "<style scoped>\n",
       "    .dataframe tbody tr th:only-of-type {\n",
       "        vertical-align: middle;\n",
       "    }\n",
       "\n",
       "    .dataframe tbody tr th {\n",
       "        vertical-align: top;\n",
       "    }\n",
       "\n",
       "    .dataframe thead th {\n",
       "        text-align: right;\n",
       "    }\n",
       "</style>\n",
       "<table border=\"1\" class=\"dataframe\">\n",
       "  <thead>\n",
       "    <tr style=\"text-align: right;\">\n",
       "      <th></th>\n",
       "      <th>Number of cycles to failure</th>\n",
       "    </tr>\n",
       "  </thead>\n",
       "  <tbody>\n",
       "    <tr>\n",
       "      <th>count</th>\n",
       "      <td>70.000000</td>\n",
       "    </tr>\n",
       "    <tr>\n",
       "      <th>mean</th>\n",
       "      <td>1403.657143</td>\n",
       "    </tr>\n",
       "    <tr>\n",
       "      <th>std</th>\n",
       "      <td>402.385239</td>\n",
       "    </tr>\n",
       "    <tr>\n",
       "      <th>min</th>\n",
       "      <td>375.000000</td>\n",
       "    </tr>\n",
       "    <tr>\n",
       "      <th>25%</th>\n",
       "      <td>1102.000000</td>\n",
       "    </tr>\n",
       "    <tr>\n",
       "      <th>50%</th>\n",
       "      <td>1436.500000</td>\n",
       "    </tr>\n",
       "    <tr>\n",
       "      <th>75%</th>\n",
       "      <td>1716.000000</td>\n",
       "    </tr>\n",
       "    <tr>\n",
       "      <th>max</th>\n",
       "      <td>2265.000000</td>\n",
       "    </tr>\n",
       "  </tbody>\n",
       "</table>\n",
       "</div>"
      ],
      "text/plain": [
       "       Number of cycles to failure\n",
       "count                    70.000000\n",
       "mean                   1403.657143\n",
       "std                     402.385239\n",
       "min                     375.000000\n",
       "25%                    1102.000000\n",
       "50%                    1436.500000\n",
       "75%                    1716.000000\n",
       "max                    2265.000000"
      ]
     },
     "execution_count": 2,
     "metadata": {},
     "output_type": "execute_result"
    }
   ],
   "source": [
    "df.describe()"
   ]
  },
  {
   "cell_type": "markdown",
   "id": "0615679e-35ac-4ff9-ae07-9aa121bd3248",
   "metadata": {},
   "source": [
    "# 3. Statistics"
   ]
  },
  {
   "cell_type": "markdown",
   "id": "7a0c07de-d453-49e1-ad3d-4828feb97732",
   "metadata": {},
   "source": [
    "## 3.1. Measure of order: max/min, percentile, quartile"
   ]
  },
  {
   "cell_type": "code",
   "execution_count": 9,
   "id": "c609466e-c1c5-46ce-9681-b2ea71fbb97c",
   "metadata": {},
   "outputs": [
    {
     "name": "stdout",
     "output_type": "stream",
     "text": [
      "max =  2265\n",
      "min =  375\n",
      "5th percentile =  790.85\n",
      "First quartile =  1102.0\n",
      "Second quartile =  1436.5\n",
      "Third quartile =  1716.0\n"
     ]
    }
   ],
   "source": [
    "print('max = ', df['Number of cycles to failure'].max())\n",
    "print('min = ', df['Number of cycles to failure'].min())\n",
    "print('5th percentile = ',df['Number of cycles to failure'].quantile(.05))\n",
    "print('First quartile = ',df['Number of cycles to failure'].quantile(.25))\n",
    "print('Second quartile = ',df['Number of cycles to failure'].quantile(.5))\n",
    "print('Third quartile = ',df['Number of cycles to failure'].quantile(.75))"
   ]
  },
  {
   "cell_type": "markdown",
   "id": "de024ed0-eef5-4cf5-9ff9-a7129dc3c919",
   "metadata": {},
   "source": [
    "## 3.2. Centeral tendency: mean, median, and mode"
   ]
  },
  {
   "cell_type": "code",
   "execution_count": 31,
   "id": "88927cec-61a2-43f3-98db-d3b2e53beca1",
   "metadata": {},
   "outputs": [
    {
     "name": "stdout",
     "output_type": "stream",
     "text": [
      "mean =  1403.6571428571428\n",
      "median =  1436.5\n",
      "mode =  0    1102\n",
      "1    1315\n",
      "2    1750\n",
      "dtype: int64\n",
      "Number of cycles to failure\n",
      "1102                           2\n",
      "1315                           2\n",
      "1750                           2\n",
      "1512                           1\n",
      "1522                           1\n",
      "                              ..\n",
      "1310                           1\n",
      "1330                           1\n",
      "1416                           1\n",
      "1421                           1\n",
      "2265                           1\n",
      "Length: 67, dtype: int64\n"
     ]
    }
   ],
   "source": [
    "print('mean = ', df['Number of cycles to failure'].mean())\n",
    "print('median = ', df['Number of cycles to failure'].median())\n",
    "print('mode = ', df['Number of cycles to failure'].mode())\n",
    "print(df.value_counts())"
   ]
  },
  {
   "cell_type": "markdown",
   "id": "6428d408-1682-4174-87a8-78c123446a58",
   "metadata": {},
   "source": [
    "## 3.3. Variability: variance, standard deviation, range, interquartile range"
   ]
  },
  {
   "cell_type": "code",
   "execution_count": 33,
   "id": "3d65a984-5e02-4101-9896-3f3fc2df102b",
   "metadata": {},
   "outputs": [
    {
     "name": "stdout",
     "output_type": "stream",
     "text": [
      "variance =  161913.88074534168\n",
      "standard deviation =  402.3852392239826\n",
      "range =  1890\n",
      "interquartile range =  614.0\n"
     ]
    }
   ],
   "source": [
    "print('variance = ', df['Number of cycles to failure'].var())\n",
    "print('standard deviation = ', df['Number of cycles to failure'].std())\n",
    "print('range = ', df['Number of cycles to failure'].max()-df['Number of cycles to failure'].min())\n",
    "print('interquartile range = ', df['Number of cycles to failure'].quantile(.75)-df['Number of cycles to failure'].quantile(.25))"
   ]
  },
  {
   "cell_type": "markdown",
   "id": "347e4bea-2ccb-4ca1-b196-d4947957edf6",
   "metadata": {},
   "source": [
    "## 3.4. measure of symmetry: skewness(symmetry of distribution: 0 = symmetry), kurtosis (peakness  of distribution: 3 = normal distribution)"
   ]
  },
  {
   "cell_type": "code",
   "execution_count": 34,
   "id": "9bbe1382-b7d8-42fe-ae36-84ea9125d527",
   "metadata": {},
   "outputs": [
    {
     "name": "stdout",
     "output_type": "stream",
     "text": [
      "skewness =  -0.025085358280582837\n",
      "kurtosis =  -0.4445239893632338\n"
     ]
    }
   ],
   "source": [
    "print('skewness = ', df['Number of cycles to failure'].skew())\n",
    "print('kurtosis = ', df['Number of cycles to failure'].kurtosis())"
   ]
  }
 ],
 "metadata": {
  "kernelspec": {
   "display_name": "Python 3",
   "language": "python",
   "name": "python3"
  },
  "language_info": {
   "codemirror_mode": {
    "name": "ipython",
    "version": 3
   },
   "file_extension": ".py",
   "mimetype": "text/x-python",
   "name": "python",
   "nbconvert_exporter": "python",
   "pygments_lexer": "ipython3",
   "version": "3.8.8"
  }
 },
 "nbformat": 4,
 "nbformat_minor": 5
}
